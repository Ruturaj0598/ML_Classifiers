{
 "cells": [
  {
   "cell_type": "markdown",
   "id": "b64cb76a",
   "metadata": {},
   "source": [
    "## Task\n",
    "\n",
    "**Task:** Implement a boosted decision tree for the auto_mpg data employing [AdaBoost](https://scikit-learn.org/stable/modules/generated/sklearn.ensemble.AdaBoostClassifier.html#sklearn.ensemble.AdaBoostClassifier). Implement a random forest classifier for employing [RandomForestClassifier](https://scikit-learn.org/stable/modules/generated/sklearn.ensemble.RandomForestClassifier.html#sklearn.ensemble.RandomForestClassifier). Compare the prediction results of both models for different training data subsets and parameters of the learning methods."
   ]
  },
  {
   "cell_type": "code",
   "execution_count": 1,
   "id": "98a8cf60",
   "metadata": {},
   "outputs": [],
   "source": [
    "import numpy as np\n",
    "import matplotlib.pyplot as plt\n",
    "\n",
    "import pandas as pd\n",
    "\n",
    "from sklearn.model_selection import train_test_split\n",
    "\n",
    "from sklearn.tree import DecisionTreeClassifier\n",
    "from sklearn.ensemble import AdaBoostClassifier\n",
    "from sklearn.ensemble import RandomForestClassifier\n",
    "from sklearn.metrics import accuracy_score\n",
    "from sklearn.model_selection import GridSearchCV\n",
    "from sklearn import tree\n",
    "\n",
    "import seaborn as sns"
   ]
  },
  {
   "cell_type": "code",
   "execution_count": 2,
   "id": "8723b8e0",
   "metadata": {},
   "outputs": [],
   "source": [
    "raw_df = pd.read_csv('auto-mpg.csv')                   #Importing CSV file"
   ]
  },
  {
   "cell_type": "markdown",
   "id": "da028a72",
   "metadata": {},
   "source": [
    "#### Cleaning Data "
   ]
  },
  {
   "cell_type": "markdown",
   "id": "30a44a15",
   "metadata": {},
   "source": [
    "Dropping last column as no numerical value and object data type"
   ]
  },
  {
   "cell_type": "code",
   "execution_count": 3,
   "id": "fb52bc5e",
   "metadata": {},
   "outputs": [],
   "source": [
    "raw_df=raw_df.drop(['car name'],axis=1)"
   ]
  },
  {
   "cell_type": "code",
   "execution_count": 4,
   "id": "1d85c473",
   "metadata": {},
   "outputs": [],
   "source": [
    "#Converting data with '?' values to none\n",
    "subs = raw_df['horsepower'] == '?'\n",
    "raw_df.loc[subs, 'horsepower'] = np.nan"
   ]
  },
  {
   "cell_type": "code",
   "execution_count": 5,
   "id": "ede93509",
   "metadata": {},
   "outputs": [],
   "source": [
    "df=raw_df.astype(float)"
   ]
  },
  {
   "cell_type": "code",
   "execution_count": 6,
   "id": "50e5c259",
   "metadata": {},
   "outputs": [
    {
     "name": "stdout",
     "output_type": "stream",
     "text": [
      "<class 'pandas.core.frame.DataFrame'>\n",
      "RangeIndex: 398 entries, 0 to 397\n",
      "Data columns (total 8 columns):\n",
      " #   Column        Non-Null Count  Dtype  \n",
      "---  ------        --------------  -----  \n",
      " 0   mpg           398 non-null    float64\n",
      " 1   cylinders     398 non-null    float64\n",
      " 2   displacement  398 non-null    float64\n",
      " 3   horsepower    392 non-null    float64\n",
      " 4   weight        398 non-null    float64\n",
      " 5   acceleration  398 non-null    float64\n",
      " 6   model year    398 non-null    float64\n",
      " 7   origin        398 non-null    float64\n",
      "dtypes: float64(8)\n",
      "memory usage: 25.0 KB\n"
     ]
    }
   ],
   "source": [
    "df.info()"
   ]
  },
  {
   "cell_type": "markdown",
   "id": "28f255b6",
   "metadata": {},
   "source": [
    "The Horsepower column has less values than others"
   ]
  },
  {
   "cell_type": "markdown",
   "id": "a044f583",
   "metadata": {},
   "source": [
    "#### Filling Missing Value"
   ]
  },
  {
   "cell_type": "code",
   "execution_count": 7,
   "id": "0931624b",
   "metadata": {},
   "outputs": [
    {
     "data": {
      "text/plain": [
       "104.46938775510205"
      ]
     },
     "execution_count": 7,
     "metadata": {},
     "output_type": "execute_result"
    }
   ],
   "source": [
    "df['horsepower'].mean()"
   ]
  },
  {
   "cell_type": "code",
   "execution_count": 8,
   "id": "89dec760",
   "metadata": {},
   "outputs": [],
   "source": [
    "#In place of missing values, we have taken mean of the column\n",
    "df['horsepower'].fillna(value = df['horsepower'].mean(), inplace = True)      "
   ]
  },
  {
   "cell_type": "code",
   "execution_count": 9,
   "id": "102202b4",
   "metadata": {},
   "outputs": [
    {
     "name": "stdout",
     "output_type": "stream",
     "text": [
      "<class 'pandas.core.frame.DataFrame'>\n",
      "RangeIndex: 398 entries, 0 to 397\n",
      "Data columns (total 8 columns):\n",
      " #   Column        Non-Null Count  Dtype  \n",
      "---  ------        --------------  -----  \n",
      " 0   mpg           398 non-null    float64\n",
      " 1   cylinders     398 non-null    float64\n",
      " 2   displacement  398 non-null    float64\n",
      " 3   horsepower    398 non-null    float64\n",
      " 4   weight        398 non-null    float64\n",
      " 5   acceleration  398 non-null    float64\n",
      " 6   model year    398 non-null    float64\n",
      " 7   origin        398 non-null    float64\n",
      "dtypes: float64(8)\n",
      "memory usage: 25.0 KB\n"
     ]
    }
   ],
   "source": [
    "df.info()"
   ]
  },
  {
   "cell_type": "markdown",
   "id": "45c00793",
   "metadata": {},
   "source": [
    "Now, all columns have same number of elements"
   ]
  },
  {
   "cell_type": "markdown",
   "id": "40689f13",
   "metadata": {},
   "source": [
    "#### Implementing AdaBoost and Random Forest Classifier to different subsets"
   ]
  },
  {
   "cell_type": "code",
   "execution_count": 10,
   "id": "0c752ca1",
   "metadata": {},
   "outputs": [],
   "source": [
    "ada_Boost= AdaBoostClassifier(learning_rate =0.02, n_estimators =1000)                     #[1]Citation"
   ]
  },
  {
   "cell_type": "code",
   "execution_count": 11,
   "id": "ba7ecb3a",
   "metadata": {},
   "outputs": [],
   "source": [
    "random_Forest = RandomForestClassifier(n_estimators=1000, n_jobs=-1 ,random_state=2)       #[2]Citation"
   ]
  },
  {
   "cell_type": "code",
   "execution_count": 12,
   "id": "8b10cc80",
   "metadata": {},
   "outputs": [
    {
     "data": {
      "text/plain": [
       "0.75"
      ]
     },
     "execution_count": 12,
     "metadata": {},
     "output_type": "execute_result"
    }
   ],
   "source": [
    "#AdaBoost\n",
    "x = df.drop(['origin'], axis = 1)\n",
    "y = df['origin']\n",
    "\n",
    "x_train, x_test, y_train, y_test = train_test_split(x, y,test_size=0.2,random_state=2)\n",
    "\n",
    "ada_Boost.fit(x_train, y_train)\n",
    "accuracy_score(y_test, ada_Boost.predict(x_test))           #accuracy of AdaBoost          #[3]Citation"
   ]
  },
  {
   "cell_type": "code",
   "execution_count": 13,
   "id": "c2a63bbd",
   "metadata": {},
   "outputs": [
    {
     "data": {
      "text/plain": [
       "0.8"
      ]
     },
     "execution_count": 13,
     "metadata": {},
     "output_type": "execute_result"
    }
   ],
   "source": [
    "#RandomForestClassifier\n",
    "random_Forest.fit(x_train, y_train)\n",
    "accuracy_score(y_test, random_Forest.predict(x_test))       #accuracy of RandomForest      #[3]Citation"
   ]
  },
  {
   "cell_type": "markdown",
   "id": "c08364d6",
   "metadata": {},
   "source": [
    "The Accuracy by using RandomForestClassifier is more than the accuracy by using AdaBoost used for this dataset."
   ]
  },
  {
   "cell_type": "markdown",
   "id": "341ecf5d",
   "metadata": {},
   "source": [
    "###### For SUBSET 1"
   ]
  },
  {
   "cell_type": "code",
   "execution_count": 14,
   "id": "c9a31cda",
   "metadata": {},
   "outputs": [],
   "source": [
    "s_set1 = df.sample(n=200,replace=True,random_state=2)\n",
    "x1 = s_set1.drop(['origin'], axis = 1)\n",
    "y1 = s_set1['origin']\n",
    "x1_train, x1_test, y1_train, y1_test = train_test_split(x1, y1,test_size=0.3,random_state=2)"
   ]
  },
  {
   "cell_type": "code",
   "execution_count": 15,
   "id": "ef9af3bf",
   "metadata": {},
   "outputs": [
    {
     "data": {
      "text/plain": [
       "AdaBoostClassifier(learning_rate=0.02, n_estimators=1000)"
      ]
     },
     "execution_count": 15,
     "metadata": {},
     "output_type": "execute_result"
    }
   ],
   "source": [
    "ada_Boost.fit(x1_train, y1_train)"
   ]
  },
  {
   "cell_type": "code",
   "execution_count": 16,
   "id": "f0f60498",
   "metadata": {},
   "outputs": [
    {
     "data": {
      "text/plain": [
       "RandomForestClassifier(n_estimators=1000, n_jobs=-1, random_state=2)"
      ]
     },
     "execution_count": 16,
     "metadata": {},
     "output_type": "execute_result"
    }
   ],
   "source": [
    "random_Forest.fit(x1_train, y1_train)"
   ]
  },
  {
   "cell_type": "code",
   "execution_count": 17,
   "id": "07a557db",
   "metadata": {},
   "outputs": [
    {
     "data": {
      "text/plain": [
       "0.85"
      ]
     },
     "execution_count": 17,
     "metadata": {},
     "output_type": "execute_result"
    }
   ],
   "source": [
    "accuracy_score(y1_test, ada_Boost.predict(x1_test))           #accuracy of AdaBoost for 1         #[3]Citation"
   ]
  },
  {
   "cell_type": "code",
   "execution_count": 18,
   "id": "5624f36d",
   "metadata": {},
   "outputs": [
    {
     "data": {
      "text/plain": [
       "0.9166666666666666"
      ]
     },
     "execution_count": 18,
     "metadata": {},
     "output_type": "execute_result"
    }
   ],
   "source": [
    "accuracy_score(y1_test, random_Forest.predict(x1_test))       #accuracy of RandomForest for 1     #[3]Citation"
   ]
  },
  {
   "cell_type": "markdown",
   "id": "f7c2db87",
   "metadata": {},
   "source": [
    "The Accuracy by using RandomForestClassifier is more than the accuracy by using AdaBoost used for this dataset."
   ]
  },
  {
   "cell_type": "markdown",
   "id": "f8f83487",
   "metadata": {},
   "source": [
    "##### For SUBSET 2"
   ]
  },
  {
   "cell_type": "code",
   "execution_count": 19,
   "id": "e05c1f4b",
   "metadata": {},
   "outputs": [],
   "source": [
    "s_set2 = df.sample(n=100,replace=True,random_state=2)\n",
    "x2 = s_set2.drop(['origin'], axis = 1)\n",
    "y2 = s_set2['origin']\n",
    "x2_train, x2_test, y2_train, y2_test = train_test_split(x2, y2,test_size=0.15,random_state=2)"
   ]
  },
  {
   "cell_type": "code",
   "execution_count": 20,
   "id": "a6642fb8",
   "metadata": {},
   "outputs": [
    {
     "data": {
      "text/plain": [
       "AdaBoostClassifier(learning_rate=0.02, n_estimators=1000)"
      ]
     },
     "execution_count": 20,
     "metadata": {},
     "output_type": "execute_result"
    }
   ],
   "source": [
    "ada_Boost.fit(x2_train, y2_train)"
   ]
  },
  {
   "cell_type": "code",
   "execution_count": 21,
   "id": "e8197855",
   "metadata": {},
   "outputs": [
    {
     "data": {
      "text/plain": [
       "RandomForestClassifier(n_estimators=1000, n_jobs=-1, random_state=2)"
      ]
     },
     "execution_count": 21,
     "metadata": {},
     "output_type": "execute_result"
    }
   ],
   "source": [
    "random_Forest.fit(x2_train, y2_train)"
   ]
  },
  {
   "cell_type": "code",
   "execution_count": 22,
   "id": "ae4585f6",
   "metadata": {},
   "outputs": [
    {
     "data": {
      "text/plain": [
       "0.7333333333333333"
      ]
     },
     "execution_count": 22,
     "metadata": {},
     "output_type": "execute_result"
    }
   ],
   "source": [
    "accuracy_score(y2_test, ada_Boost.predict(x2_test))              #accuracy of AdaBoost for 2        #[3]Citation"
   ]
  },
  {
   "cell_type": "code",
   "execution_count": 23,
   "id": "5e97d5ac",
   "metadata": {},
   "outputs": [
    {
     "data": {
      "text/plain": [
       "0.8666666666666667"
      ]
     },
     "execution_count": 23,
     "metadata": {},
     "output_type": "execute_result"
    }
   ],
   "source": [
    "accuracy_score(y2_test, random_Forest.predict(x2_test))          #accuracy of RandomForest for 2    #[3]Citation"
   ]
  },
  {
   "cell_type": "markdown",
   "id": "b95e9c40",
   "metadata": {},
   "source": [
    "The Accuracy by using RandomForestClassifier is more than the accuracy by using AdaBoost used for this dataset."
   ]
  },
  {
   "cell_type": "markdown",
   "id": "37ee1022",
   "metadata": {},
   "source": [
    "##### For SUBSET 3"
   ]
  },
  {
   "cell_type": "code",
   "execution_count": 24,
   "id": "16709696",
   "metadata": {},
   "outputs": [],
   "source": [
    "s_set3 = df.sample(n=150,replace=True,random_state=2)\n",
    "x3 = s_set3.drop(['origin'], axis = 1)\n",
    "y3 = s_set3['origin']\n",
    "x3_train, x3_test, y3_train, y3_test = train_test_split(x3, y3,test_size=0.2,random_state=2)"
   ]
  },
  {
   "cell_type": "code",
   "execution_count": 25,
   "id": "92bcbe0a",
   "metadata": {},
   "outputs": [
    {
     "data": {
      "text/plain": [
       "AdaBoostClassifier(learning_rate=0.02, n_estimators=1000)"
      ]
     },
     "execution_count": 25,
     "metadata": {},
     "output_type": "execute_result"
    }
   ],
   "source": [
    "ada_Boost.fit(x3_train, y3_train)"
   ]
  },
  {
   "cell_type": "code",
   "execution_count": 26,
   "id": "736a4e3b",
   "metadata": {},
   "outputs": [
    {
     "data": {
      "text/plain": [
       "RandomForestClassifier(n_estimators=1000, n_jobs=-1, random_state=2)"
      ]
     },
     "execution_count": 26,
     "metadata": {},
     "output_type": "execute_result"
    }
   ],
   "source": [
    "random_Forest.fit(x3_train, y3_train)"
   ]
  },
  {
   "cell_type": "code",
   "execution_count": 27,
   "id": "4c3b8ba8",
   "metadata": {},
   "outputs": [
    {
     "data": {
      "text/plain": [
       "0.8"
      ]
     },
     "execution_count": 27,
     "metadata": {},
     "output_type": "execute_result"
    }
   ],
   "source": [
    "accuracy_score(y3_test, ada_Boost.predict(x3_test))              #accuracy of AdaBoost for 3          #[3]Citation"
   ]
  },
  {
   "cell_type": "code",
   "execution_count": 28,
   "id": "05b23ba5",
   "metadata": {},
   "outputs": [
    {
     "data": {
      "text/plain": [
       "0.8333333333333334"
      ]
     },
     "execution_count": 28,
     "metadata": {},
     "output_type": "execute_result"
    }
   ],
   "source": [
    "accuracy_score(y3_test, random_Forest.predict(x3_test))          #accuracy of RandomForest for 3      #[3]Citation"
   ]
  },
  {
   "cell_type": "markdown",
   "id": "3ee833a8",
   "metadata": {},
   "source": [
    "The Accuracy by using RandomForestClassifier is almost same as the accuracy by using AdaBoost used for this dataset."
   ]
  },
  {
   "cell_type": "markdown",
   "id": "015ca9e4",
   "metadata": {},
   "source": [
    "Comparing the Accuracies of all 3 subsets, it is observed that in most cases the accuracy of RandomForest is more than AdaBoost."
   ]
  },
  {
   "cell_type": "markdown",
   "id": "bd0a14eb",
   "metadata": {},
   "source": [
    "#### Grid Search on full data for Random Forest Classifier"
   ]
  },
  {
   "cell_type": "code",
   "execution_count": 29,
   "id": "7fdde03b",
   "metadata": {},
   "outputs": [],
   "source": [
    "x = df.drop(['origin'], axis = 1)\n",
    "y = df['origin']\n",
    "\n",
    "x_train, x_test, y_train, y_test = train_test_split(x, y,test_size=0.2,random_state=2)"
   ]
  },
  {
   "cell_type": "code",
   "execution_count": 30,
   "id": "158e4766",
   "metadata": {},
   "outputs": [],
   "source": [
    "params_grid = {\"max_features\" : [4,5,6,],\n",
    "              \"min_samples_split\": [2, 3, 10],\n",
    "               \"n_estimators\" : [200, 1000, 2000]\n",
    "              }"
   ]
  },
  {
   "cell_type": "code",
   "execution_count": 31,
   "id": "63b722b1",
   "metadata": {},
   "outputs": [],
   "source": [
    "grid_searchR = GridSearchCV(random_Forest, params_grid,                                #[4]Citation\n",
    "                           n_jobs=-1, cv=5, scoring='accuracy')"
   ]
  },
  {
   "cell_type": "code",
   "execution_count": 32,
   "id": "6adcdeb6",
   "metadata": {},
   "outputs": [
    {
     "data": {
      "text/plain": [
       "GridSearchCV(cv=5,\n",
       "             estimator=RandomForestClassifier(n_estimators=1000, n_jobs=-1,\n",
       "                                              random_state=2),\n",
       "             n_jobs=-1,\n",
       "             param_grid={'max_features': [4, 5, 6],\n",
       "                         'min_samples_split': [2, 3, 10],\n",
       "                         'n_estimators': [200, 1000, 2000]},\n",
       "             scoring='accuracy')"
      ]
     },
     "execution_count": 32,
     "metadata": {},
     "output_type": "execute_result"
    }
   ],
   "source": [
    "grid_searchR.fit(x_train, y_train)"
   ]
  },
  {
   "cell_type": "code",
   "execution_count": 33,
   "id": "fd289657",
   "metadata": {
    "scrolled": true
   },
   "outputs": [
    {
     "data": {
      "text/plain": [
       "{'max_features': 5, 'min_samples_split': 2, 'n_estimators': 1000}"
      ]
     },
     "execution_count": 33,
     "metadata": {},
     "output_type": "execute_result"
    }
   ],
   "source": [
    "grid_searchR.best_params_ "
   ]
  },
  {
   "cell_type": "code",
   "execution_count": 34,
   "id": "a757d618",
   "metadata": {},
   "outputs": [],
   "source": [
    "predict_bestR = grid_searchR.best_estimator_"
   ]
  },
  {
   "cell_type": "code",
   "execution_count": 35,
   "id": "55eda1d8",
   "metadata": {},
   "outputs": [
    {
     "data": {
      "text/plain": [
       "0.825"
      ]
     },
     "execution_count": 35,
     "metadata": {},
     "output_type": "execute_result"
    }
   ],
   "source": [
    "accuracy_score(y_test, predict_bestR.predict(x_test))"
   ]
  },
  {
   "cell_type": "markdown",
   "id": "6aae8b35",
   "metadata": {},
   "source": [
    "#### Grid Search on full data for AdaBoost"
   ]
  },
  {
   "cell_type": "code",
   "execution_count": 36,
   "id": "5572d49d",
   "metadata": {},
   "outputs": [],
   "source": [
    "params_grid = {\"learning_rate\" : [0.01, 0.02, 0.03],\n",
    "               \"n_estimators\" : [200, 1000, 2000]\n",
    "              }"
   ]
  },
  {
   "cell_type": "code",
   "execution_count": 37,
   "id": "457f3e47",
   "metadata": {},
   "outputs": [],
   "source": [
    "grid_searchA = GridSearchCV(ada_Boost, params_grid,                                   #[4]Citation\n",
    "                           n_jobs=-1, cv=5, scoring='accuracy')"
   ]
  },
  {
   "cell_type": "code",
   "execution_count": 38,
   "id": "79325888",
   "metadata": {},
   "outputs": [
    {
     "data": {
      "text/plain": [
       "GridSearchCV(cv=5,\n",
       "             estimator=AdaBoostClassifier(learning_rate=0.02,\n",
       "                                          n_estimators=1000),\n",
       "             n_jobs=-1,\n",
       "             param_grid={'learning_rate': [0.01, 0.02, 0.03],\n",
       "                         'n_estimators': [200, 1000, 2000]},\n",
       "             scoring='accuracy')"
      ]
     },
     "execution_count": 38,
     "metadata": {},
     "output_type": "execute_result"
    }
   ],
   "source": [
    "grid_searchA.fit(x_train, y_train)"
   ]
  },
  {
   "cell_type": "code",
   "execution_count": 39,
   "id": "7665539f",
   "metadata": {
    "scrolled": true
   },
   "outputs": [
    {
     "data": {
      "text/plain": [
       "{'learning_rate': 0.03, 'n_estimators': 1000}"
      ]
     },
     "execution_count": 39,
     "metadata": {},
     "output_type": "execute_result"
    }
   ],
   "source": [
    "grid_searchA.best_params_ "
   ]
  },
  {
   "cell_type": "code",
   "execution_count": 40,
   "id": "e86d701d",
   "metadata": {},
   "outputs": [],
   "source": [
    "predict_bestA = grid_searchA.best_estimator_"
   ]
  },
  {
   "cell_type": "code",
   "execution_count": 41,
   "id": "037dc1c1",
   "metadata": {},
   "outputs": [
    {
     "data": {
      "text/plain": [
       "0.7625"
      ]
     },
     "execution_count": 41,
     "metadata": {},
     "output_type": "execute_result"
    }
   ],
   "source": [
    "accuracy_score(y_test, predict_bestA.predict(x_test))"
   ]
  },
  {
   "cell_type": "markdown",
   "id": "e9d52900",
   "metadata": {},
   "source": [
    "##### Using Grid Search on both AdaBoost and RandomForestClassifier and choosing best parameter, THE ACCURACY using RandomForestClassifier is more than accuracy by using AdaBoost for the given dataset of auto-mpg."
   ]
  },
  {
   "cell_type": "markdown",
   "id": "3edddb44",
   "metadata": {},
   "source": [
    "## REFERENCES"
   ]
  },
  {
   "cell_type": "markdown",
   "id": "3499d817",
   "metadata": {},
   "source": [
    "[1]https://scikit-learn.org/stable/modules/generated/sklearn.ensemble.AdaBoostClassifier.html"
   ]
  },
  {
   "cell_type": "markdown",
   "id": "858c7c59",
   "metadata": {},
   "source": [
    "[2]https://scikit-learn.org/stable/modules/generated/sklearn.ensemble.RandomForestRegressor.html#sklearn.ensemble.RandomForestRegressor"
   ]
  },
  {
   "cell_type": "markdown",
   "id": "896dd380",
   "metadata": {},
   "source": [
    "[3]https://scikit-learn.org/stable/modules/generated/sklearn.metrics.accuracy_score.html#sklearn-metrics-accuracy-score"
   ]
  },
  {
   "cell_type": "markdown",
   "id": "0740b6d5",
   "metadata": {},
   "source": [
    "[4]https://scikit-learn.org/stable/modules/generated/sklearn.model_selection.GridSearchCV.html"
   ]
  }
 ],
 "metadata": {
  "kernelspec": {
   "display_name": "Python 3 (ipykernel)",
   "language": "python",
   "name": "python3"
  },
  "language_info": {
   "codemirror_mode": {
    "name": "ipython",
    "version": 3
   },
   "file_extension": ".py",
   "mimetype": "text/x-python",
   "name": "python",
   "nbconvert_exporter": "python",
   "pygments_lexer": "ipython3",
   "version": "3.10.9"
  }
 },
 "nbformat": 4,
 "nbformat_minor": 5
}
